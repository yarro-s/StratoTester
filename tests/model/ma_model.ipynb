{
 "cells": [
  {
   "cell_type": "code",
   "execution_count": 8,
   "metadata": {},
   "outputs": [],
   "source": [
    "import bt\n",
    "import pandas as pd\n",
    "import matplotlib as plt\n",
    "\n",
    "%matplolib inline"
   ]
  },
  {
   "cell_type": "code",
   "execution_count": 9,
   "metadata": {},
   "outputs": [],
   "source": [
    "dataset_name = \"sma_model\" #\"^IXIC\"\n",
    "field_name = \"Close\"\n",
    "\n",
    "n_lookback = 3 #50"
   ]
  },
  {
   "cell_type": "code",
   "execution_count": 50,
   "metadata": {},
   "outputs": [],
   "source": [
    "ticker_data_path = \"../data/\" + dataset_name + \".csv\"\n",
    "\n",
    "all_data = pd.read_csv(ticker_data_path, index_col=0, \n",
    "            parse_dates=True, infer_datetime_format=True,\n",
    "            thousands=None)\n",
    "\n",
    "data = all_data.loc[:, [field_name]]"
   ]
  },
  {
   "cell_type": "code",
   "execution_count": 51,
   "metadata": {},
   "outputs": [
    {
     "output_type": "execute_result",
     "data": {
      "text/plain": "            Close   →W\nDate                  \n2010-01-01   25.3  0.0\n2010-02-01   23.5  0.0\n2010-03-01   35.3  0.0\n2010-04-01   20.5  1.0\n2010-05-01   12.4 -1.0\n2010-06-01   27.4 -1.0\n2010-07-01   30.2  1.0\n2010-08-01   25.0  1.0",
      "text/html": "<div>\n<style scoped>\n    .dataframe tbody tr th:only-of-type {\n        vertical-align: middle;\n    }\n\n    .dataframe tbody tr th {\n        vertical-align: top;\n    }\n\n    .dataframe thead th {\n        text-align: right;\n    }\n</style>\n<table border=\"1\" class=\"dataframe\">\n  <thead>\n    <tr style=\"text-align: right;\">\n      <th></th>\n      <th>Close</th>\n      <th>→W</th>\n    </tr>\n    <tr>\n      <th>Date</th>\n      <th></th>\n      <th></th>\n    </tr>\n  </thead>\n  <tbody>\n    <tr>\n      <td>2010-01-01</td>\n      <td>25.3</td>\n      <td>0.0</td>\n    </tr>\n    <tr>\n      <td>2010-02-01</td>\n      <td>23.5</td>\n      <td>0.0</td>\n    </tr>\n    <tr>\n      <td>2010-03-01</td>\n      <td>35.3</td>\n      <td>0.0</td>\n    </tr>\n    <tr>\n      <td>2010-04-01</td>\n      <td>20.5</td>\n      <td>1.0</td>\n    </tr>\n    <tr>\n      <td>2010-05-01</td>\n      <td>12.4</td>\n      <td>-1.0</td>\n    </tr>\n    <tr>\n      <td>2010-06-01</td>\n      <td>27.4</td>\n      <td>-1.0</td>\n    </tr>\n    <tr>\n      <td>2010-07-01</td>\n      <td>30.2</td>\n      <td>1.0</td>\n    </tr>\n    <tr>\n      <td>2010-08-01</td>\n      <td>25.0</td>\n      <td>1.0</td>\n    </tr>\n  </tbody>\n</table>\n</div>"
     },
     "metadata": {},
     "execution_count": 51
    }
   ],
   "source": [
    "all_data"
   ]
  },
  {
   "cell_type": "code",
   "execution_count": 46,
   "metadata": {},
   "outputs": [],
   "source": [
    "sma = data.rolling(n_lookback).mean()\n",
    "\n",
    "weights = sma.copy()\n",
    "weights[data > sma] = 1.0;\n",
    "weights[data <= sma] = -1.0;\n",
    "# weight = weight.shift(-1)\n",
    "weights[weight.isnull()] = 0.0;"
   ]
  },
  {
   "cell_type": "code",
   "execution_count": 52,
   "metadata": {},
   "outputs": [],
   "source": [
    "weights = all_data.loc[:, [\"→W\"]]\n",
    "weights.columns = [field_name]"
   ]
  },
  {
   "cell_type": "code",
   "execution_count": 53,
   "metadata": {},
   "outputs": [
    {
     "output_type": "execute_result",
     "data": {
      "text/plain": "            Close  Close\nDate                    \n2010-01-01   25.3    0.0\n2010-02-01   23.5    0.0\n2010-03-01   35.3    0.0\n2010-04-01   20.5    1.0\n2010-05-01   12.4   -1.0\n2010-06-01   27.4   -1.0\n2010-07-01   30.2    1.0\n2010-08-01   25.0    1.0",
      "text/html": "<div>\n<style scoped>\n    .dataframe tbody tr th:only-of-type {\n        vertical-align: middle;\n    }\n\n    .dataframe tbody tr th {\n        vertical-align: top;\n    }\n\n    .dataframe thead th {\n        text-align: right;\n    }\n</style>\n<table border=\"1\" class=\"dataframe\">\n  <thead>\n    <tr style=\"text-align: right;\">\n      <th></th>\n      <th>Close</th>\n      <th>Close</th>\n    </tr>\n    <tr>\n      <th>Date</th>\n      <th></th>\n      <th></th>\n    </tr>\n  </thead>\n  <tbody>\n    <tr>\n      <td>2010-01-01</td>\n      <td>25.3</td>\n      <td>0.0</td>\n    </tr>\n    <tr>\n      <td>2010-02-01</td>\n      <td>23.5</td>\n      <td>0.0</td>\n    </tr>\n    <tr>\n      <td>2010-03-01</td>\n      <td>35.3</td>\n      <td>0.0</td>\n    </tr>\n    <tr>\n      <td>2010-04-01</td>\n      <td>20.5</td>\n      <td>1.0</td>\n    </tr>\n    <tr>\n      <td>2010-05-01</td>\n      <td>12.4</td>\n      <td>-1.0</td>\n    </tr>\n    <tr>\n      <td>2010-06-01</td>\n      <td>27.4</td>\n      <td>-1.0</td>\n    </tr>\n    <tr>\n      <td>2010-07-01</td>\n      <td>30.2</td>\n      <td>1.0</td>\n    </tr>\n    <tr>\n      <td>2010-08-01</td>\n      <td>25.0</td>\n      <td>1.0</td>\n    </tr>\n  </tbody>\n</table>\n</div>"
     },
     "metadata": {},
     "execution_count": 53
    }
   ],
   "source": [
    "pd.concat([data, weights], axis=1)"
   ]
  },
  {
   "cell_type": "code",
   "execution_count": 54,
   "metadata": {},
   "outputs": [
    {
     "output_type": "stream",
     "name": "stdout",
     "text": "specw\n0% [#########] 100% | ETA: 00:00:00\nTotal time elapsed: 00:00:00\n"
    }
   ],
   "source": [
    "s = bt.Strategy('specw', [bt.algos.WeighTarget(weights),\n",
    "                               bt.algos.Rebalance()])\n",
    "t = bt.Backtest(s, data)\n",
    "res = bt.run(t)"
   ]
  },
  {
   "cell_type": "code",
   "execution_count": 55,
   "metadata": {},
   "outputs": [
    {
     "output_type": "execute_result",
     "data": {
      "text/plain": "            specw  specw>Close\n2009-12-31    1.0     0.000000\n2010-01-01    1.0     0.000000\n2010-02-01    1.0     0.000000\n2010-03-01    1.0     0.000000\n2010-04-01    1.0     0.999990\n2010-05-01    1.0    -1.000004\n2010-06-01    1.0    -0.000000\n2010-07-01    1.0    -0.000000\n2010-08-01    1.0    -0.000000",
      "text/html": "<div>\n<style scoped>\n    .dataframe tbody tr th:only-of-type {\n        vertical-align: middle;\n    }\n\n    .dataframe tbody tr th {\n        vertical-align: top;\n    }\n\n    .dataframe thead th {\n        text-align: right;\n    }\n</style>\n<table border=\"1\" class=\"dataframe\">\n  <thead>\n    <tr style=\"text-align: right;\">\n      <th></th>\n      <th>specw</th>\n      <th>specw&gt;Close</th>\n    </tr>\n  </thead>\n  <tbody>\n    <tr>\n      <td>2009-12-31</td>\n      <td>1.0</td>\n      <td>0.000000</td>\n    </tr>\n    <tr>\n      <td>2010-01-01</td>\n      <td>1.0</td>\n      <td>0.000000</td>\n    </tr>\n    <tr>\n      <td>2010-02-01</td>\n      <td>1.0</td>\n      <td>0.000000</td>\n    </tr>\n    <tr>\n      <td>2010-03-01</td>\n      <td>1.0</td>\n      <td>0.000000</td>\n    </tr>\n    <tr>\n      <td>2010-04-01</td>\n      <td>1.0</td>\n      <td>0.999990</td>\n    </tr>\n    <tr>\n      <td>2010-05-01</td>\n      <td>1.0</td>\n      <td>-1.000004</td>\n    </tr>\n    <tr>\n      <td>2010-06-01</td>\n      <td>1.0</td>\n      <td>-0.000000</td>\n    </tr>\n    <tr>\n      <td>2010-07-01</td>\n      <td>1.0</td>\n      <td>-0.000000</td>\n    </tr>\n    <tr>\n      <td>2010-08-01</td>\n      <td>1.0</td>\n      <td>-0.000000</td>\n    </tr>\n  </tbody>\n</table>\n</div>"
     },
     "metadata": {},
     "execution_count": 55
    }
   ],
   "source": [
    "res.get_weights()"
   ]
  },
  {
   "cell_type": "code",
   "execution_count": 56,
   "metadata": {},
   "outputs": [
    {
     "output_type": "execute_result",
     "data": {
      "text/plain": "                     price  quantity\nDate       Security                 \n2010-04-01 Close      20.5   48780.0\n2010-05-01 Close      12.4  -97561.0\n2010-06-01 Close      27.4   48781.0",
      "text/html": "<div>\n<style scoped>\n    .dataframe tbody tr th:only-of-type {\n        vertical-align: middle;\n    }\n\n    .dataframe tbody tr th {\n        vertical-align: top;\n    }\n\n    .dataframe thead th {\n        text-align: right;\n    }\n</style>\n<table border=\"1\" class=\"dataframe\">\n  <thead>\n    <tr style=\"text-align: right;\">\n      <th></th>\n      <th></th>\n      <th>price</th>\n      <th>quantity</th>\n    </tr>\n    <tr>\n      <th>Date</th>\n      <th>Security</th>\n      <th></th>\n      <th></th>\n    </tr>\n  </thead>\n  <tbody>\n    <tr>\n      <td>2010-04-01</td>\n      <td>Close</td>\n      <td>20.5</td>\n      <td>48780.0</td>\n    </tr>\n    <tr>\n      <td>2010-05-01</td>\n      <td>Close</td>\n      <td>12.4</td>\n      <td>-97561.0</td>\n    </tr>\n    <tr>\n      <td>2010-06-01</td>\n      <td>Close</td>\n      <td>27.4</td>\n      <td>48781.0</td>\n    </tr>\n  </tbody>\n</table>\n</div>"
     },
     "metadata": {},
     "execution_count": 56
    }
   ],
   "source": [
    "res.get_transactions()"
   ]
  },
  {
   "cell_type": "code",
   "execution_count": 57,
   "metadata": {},
   "outputs": [
    {
     "output_type": "execute_result",
     "data": {
      "text/plain": "               specw\n2009-12-31  100.0000\n2010-01-01  100.0000\n2010-02-01  100.0000\n2010-03-01  100.0000\n2010-04-01  100.0000\n2010-05-01   60.4882\n2010-06-01  -12.6833\n2010-07-01  -12.6833\n2010-08-01  -12.6833",
      "text/html": "<div>\n<style scoped>\n    .dataframe tbody tr th:only-of-type {\n        vertical-align: middle;\n    }\n\n    .dataframe tbody tr th {\n        vertical-align: top;\n    }\n\n    .dataframe thead th {\n        text-align: right;\n    }\n</style>\n<table border=\"1\" class=\"dataframe\">\n  <thead>\n    <tr style=\"text-align: right;\">\n      <th></th>\n      <th>specw</th>\n    </tr>\n  </thead>\n  <tbody>\n    <tr>\n      <td>2009-12-31</td>\n      <td>100.0000</td>\n    </tr>\n    <tr>\n      <td>2010-01-01</td>\n      <td>100.0000</td>\n    </tr>\n    <tr>\n      <td>2010-02-01</td>\n      <td>100.0000</td>\n    </tr>\n    <tr>\n      <td>2010-03-01</td>\n      <td>100.0000</td>\n    </tr>\n    <tr>\n      <td>2010-04-01</td>\n      <td>100.0000</td>\n    </tr>\n    <tr>\n      <td>2010-05-01</td>\n      <td>60.4882</td>\n    </tr>\n    <tr>\n      <td>2010-06-01</td>\n      <td>-12.6833</td>\n    </tr>\n    <tr>\n      <td>2010-07-01</td>\n      <td>-12.6833</td>\n    </tr>\n    <tr>\n      <td>2010-08-01</td>\n      <td>-12.6833</td>\n    </tr>\n  </tbody>\n</table>\n</div>"
     },
     "metadata": {},
     "execution_count": 57
    }
   ],
   "source": [
    "res.prices"
   ]
  },
  {
   "cell_type": "code",
   "execution_count": null,
   "metadata": {},
   "outputs": [],
   "source": []
  }
 ],
 "metadata": {
  "language_info": {
   "codemirror_mode": {
    "name": "ipython",
    "version": 3
   },
   "file_extension": ".py",
   "mimetype": "text/x-python",
   "name": "python",
   "nbconvert_exporter": "python",
   "pygments_lexer": "ipython3",
   "version": "3.7.4-final"
  },
  "orig_nbformat": 2,
  "kernelspec": {
   "name": "python37464bitanaconda3virtualenv3ecabcfb2ea04fd5ab33042af06afd60",
   "display_name": "Python 3.7.4 64-bit ('anaconda3': virtualenv)"
  }
 },
 "nbformat": 4,
 "nbformat_minor": 2
}